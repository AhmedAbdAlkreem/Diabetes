{
 "cells": [
  {
   "cell_type": "markdown",
   "id": "ada8f17d",
   "metadata": {},
   "source": [
    "# Project Overview and Dataset"
   ]
  },
  {
   "cell_type": "markdown",
   "id": "29cbc0e1",
   "metadata": {},
   "source": [
    "### Our task is to classify a patient as either having diabtes (class1) or no diabetes(class0)."
   ]
  },
  {
   "cell_type": "markdown",
   "id": "82f1c19a",
   "metadata": {},
   "source": [
    "### We use<b> Pima Diabetes Database</b> which is available on <a href = https://www.kaggle.com> Kaggle </a> You can view and download the dataset from this  <a href = https://www.kaggle.com/uciml/pima-indians-diabetes-database> Link <a>. "
   ]
  },
  {
   "cell_type": "markdown",
   "id": "19dc2d91",
   "metadata": {},
   "source": [
    "## Read Dataset"
   ]
  },
  {
   "cell_type": "code",
   "execution_count": 1,
   "id": "277736a9",
   "metadata": {},
   "outputs": [
    {
     "data": {
      "text/html": [
       "<div>\n",
       "<style scoped>\n",
       "    .dataframe tbody tr th:only-of-type {\n",
       "        vertical-align: middle;\n",
       "    }\n",
       "\n",
       "    .dataframe tbody tr th {\n",
       "        vertical-align: top;\n",
       "    }\n",
       "\n",
       "    .dataframe thead th {\n",
       "        text-align: right;\n",
       "    }\n",
       "</style>\n",
       "<table border=\"1\" class=\"dataframe\">\n",
       "  <thead>\n",
       "    <tr style=\"text-align: right;\">\n",
       "      <th></th>\n",
       "      <th>Pregnancies</th>\n",
       "      <th>Glucose</th>\n",
       "      <th>BloodPressure</th>\n",
       "      <th>SkinThickness</th>\n",
       "      <th>Insulin</th>\n",
       "      <th>BMI</th>\n",
       "      <th>DiabetesPedigreeFunction</th>\n",
       "      <th>Age</th>\n",
       "      <th>Outcome</th>\n",
       "    </tr>\n",
       "  </thead>\n",
       "  <tbody>\n",
       "    <tr>\n",
       "      <th>0</th>\n",
       "      <td>6</td>\n",
       "      <td>148</td>\n",
       "      <td>72</td>\n",
       "      <td>35</td>\n",
       "      <td>0</td>\n",
       "      <td>33.6</td>\n",
       "      <td>0.627</td>\n",
       "      <td>50</td>\n",
       "      <td>1</td>\n",
       "    </tr>\n",
       "    <tr>\n",
       "      <th>1</th>\n",
       "      <td>1</td>\n",
       "      <td>85</td>\n",
       "      <td>66</td>\n",
       "      <td>29</td>\n",
       "      <td>0</td>\n",
       "      <td>26.6</td>\n",
       "      <td>0.351</td>\n",
       "      <td>31</td>\n",
       "      <td>0</td>\n",
       "    </tr>\n",
       "    <tr>\n",
       "      <th>2</th>\n",
       "      <td>8</td>\n",
       "      <td>183</td>\n",
       "      <td>64</td>\n",
       "      <td>0</td>\n",
       "      <td>0</td>\n",
       "      <td>23.3</td>\n",
       "      <td>0.672</td>\n",
       "      <td>32</td>\n",
       "      <td>1</td>\n",
       "    </tr>\n",
       "    <tr>\n",
       "      <th>3</th>\n",
       "      <td>1</td>\n",
       "      <td>89</td>\n",
       "      <td>66</td>\n",
       "      <td>23</td>\n",
       "      <td>94</td>\n",
       "      <td>28.1</td>\n",
       "      <td>0.167</td>\n",
       "      <td>21</td>\n",
       "      <td>0</td>\n",
       "    </tr>\n",
       "    <tr>\n",
       "      <th>4</th>\n",
       "      <td>0</td>\n",
       "      <td>137</td>\n",
       "      <td>40</td>\n",
       "      <td>35</td>\n",
       "      <td>168</td>\n",
       "      <td>43.1</td>\n",
       "      <td>2.288</td>\n",
       "      <td>33</td>\n",
       "      <td>1</td>\n",
       "    </tr>\n",
       "  </tbody>\n",
       "</table>\n",
       "</div>"
      ],
      "text/plain": [
       "   Pregnancies  Glucose  BloodPressure  SkinThickness  Insulin   BMI  \\\n",
       "0            6      148             72             35        0  33.6   \n",
       "1            1       85             66             29        0  26.6   \n",
       "2            8      183             64              0        0  23.3   \n",
       "3            1       89             66             23       94  28.1   \n",
       "4            0      137             40             35      168  43.1   \n",
       "\n",
       "   DiabetesPedigreeFunction  Age  Outcome  \n",
       "0                     0.627   50        1  \n",
       "1                     0.351   31        0  \n",
       "2                     0.672   32        1  \n",
       "3                     0.167   21        0  \n",
       "4                     2.288   33        1  "
      ]
     },
     "execution_count": 1,
     "metadata": {},
     "output_type": "execute_result"
    }
   ],
   "source": [
    "# To read dataset with pandas.\n",
    "import pandas as pd\n",
    "\n",
    "data = pd.read_csv('diabetes.csv')\n",
    "\n",
    "data.head()"
   ]
  },
  {
   "cell_type": "code",
   "execution_count": 2,
   "id": "10e1024c",
   "metadata": {},
   "outputs": [
    {
     "data": {
      "text/plain": [
       "Pregnancies                   int64\n",
       "Glucose                       int64\n",
       "BloodPressure                 int64\n",
       "SkinThickness                 int64\n",
       "Insulin                       int64\n",
       "BMI                         float64\n",
       "DiabetesPedigreeFunction    float64\n",
       "Age                           int64\n",
       "Outcome                       int64\n",
       "dtype: object"
      ]
     },
     "execution_count": 2,
     "metadata": {},
     "output_type": "execute_result"
    }
   ],
   "source": [
    "# To know you have Missing values in dataset.\n",
    "data.dtypes"
   ]
  },
  {
   "cell_type": "markdown",
   "id": "890c4a8e",
   "metadata": {},
   "source": [
    "## Splitting dataset to input and output"
   ]
  },
  {
   "cell_type": "code",
   "execution_count": 3,
   "id": "3d3f8c7f",
   "metadata": {},
   "outputs": [],
   "source": [
    "# Split data into input and output.\n",
    "data_input = data.drop( columns = ['Outcome'] )\n",
    "data_output = data['Outcome']"
   ]
  },
  {
   "cell_type": "code",
   "execution_count": 4,
   "id": "e7cc4a3f",
   "metadata": {},
   "outputs": [
    {
     "data": {
      "text/html": [
       "<div>\n",
       "<style scoped>\n",
       "    .dataframe tbody tr th:only-of-type {\n",
       "        vertical-align: middle;\n",
       "    }\n",
       "\n",
       "    .dataframe tbody tr th {\n",
       "        vertical-align: top;\n",
       "    }\n",
       "\n",
       "    .dataframe thead th {\n",
       "        text-align: right;\n",
       "    }\n",
       "</style>\n",
       "<table border=\"1\" class=\"dataframe\">\n",
       "  <thead>\n",
       "    <tr style=\"text-align: right;\">\n",
       "      <th></th>\n",
       "      <th>Pregnancies</th>\n",
       "      <th>Glucose</th>\n",
       "      <th>BloodPressure</th>\n",
       "      <th>SkinThickness</th>\n",
       "      <th>Insulin</th>\n",
       "      <th>BMI</th>\n",
       "      <th>DiabetesPedigreeFunction</th>\n",
       "      <th>Age</th>\n",
       "    </tr>\n",
       "  </thead>\n",
       "  <tbody>\n",
       "    <tr>\n",
       "      <th>0</th>\n",
       "      <td>6</td>\n",
       "      <td>148</td>\n",
       "      <td>72</td>\n",
       "      <td>35</td>\n",
       "      <td>0</td>\n",
       "      <td>33.6</td>\n",
       "      <td>0.627</td>\n",
       "      <td>50</td>\n",
       "    </tr>\n",
       "    <tr>\n",
       "      <th>1</th>\n",
       "      <td>1</td>\n",
       "      <td>85</td>\n",
       "      <td>66</td>\n",
       "      <td>29</td>\n",
       "      <td>0</td>\n",
       "      <td>26.6</td>\n",
       "      <td>0.351</td>\n",
       "      <td>31</td>\n",
       "    </tr>\n",
       "    <tr>\n",
       "      <th>2</th>\n",
       "      <td>8</td>\n",
       "      <td>183</td>\n",
       "      <td>64</td>\n",
       "      <td>0</td>\n",
       "      <td>0</td>\n",
       "      <td>23.3</td>\n",
       "      <td>0.672</td>\n",
       "      <td>32</td>\n",
       "    </tr>\n",
       "    <tr>\n",
       "      <th>3</th>\n",
       "      <td>1</td>\n",
       "      <td>89</td>\n",
       "      <td>66</td>\n",
       "      <td>23</td>\n",
       "      <td>94</td>\n",
       "      <td>28.1</td>\n",
       "      <td>0.167</td>\n",
       "      <td>21</td>\n",
       "    </tr>\n",
       "    <tr>\n",
       "      <th>4</th>\n",
       "      <td>0</td>\n",
       "      <td>137</td>\n",
       "      <td>40</td>\n",
       "      <td>35</td>\n",
       "      <td>168</td>\n",
       "      <td>43.1</td>\n",
       "      <td>2.288</td>\n",
       "      <td>33</td>\n",
       "    </tr>\n",
       "  </tbody>\n",
       "</table>\n",
       "</div>"
      ],
      "text/plain": [
       "   Pregnancies  Glucose  BloodPressure  SkinThickness  Insulin   BMI  \\\n",
       "0            6      148             72             35        0  33.6   \n",
       "1            1       85             66             29        0  26.6   \n",
       "2            8      183             64              0        0  23.3   \n",
       "3            1       89             66             23       94  28.1   \n",
       "4            0      137             40             35      168  43.1   \n",
       "\n",
       "   DiabetesPedigreeFunction  Age  \n",
       "0                     0.627   50  \n",
       "1                     0.351   31  \n",
       "2                     0.672   32  \n",
       "3                     0.167   21  \n",
       "4                     2.288   33  "
      ]
     },
     "execution_count": 4,
     "metadata": {},
     "output_type": "execute_result"
    }
   ],
   "source": [
    "# Show input from dataset only.\n",
    "data_input.head()"
   ]
  },
  {
   "cell_type": "code",
   "execution_count": 5,
   "id": "9f351ed0",
   "metadata": {},
   "outputs": [
    {
     "data": {
      "text/plain": [
       "0    1\n",
       "1    0\n",
       "2    1\n",
       "3    0\n",
       "4    1\n",
       "Name: Outcome, dtype: int64"
      ]
     },
     "execution_count": 5,
     "metadata": {},
     "output_type": "execute_result"
    }
   ],
   "source": [
    "# Show output from dataset only.\n",
    "data_output.head()"
   ]
  },
  {
   "cell_type": "markdown",
   "id": "2f29e112",
   "metadata": {},
   "source": [
    "# Splitting dataset to (Training, Validation and Testing)"
   ]
  },
  {
   "cell_type": "code",
   "execution_count": 6,
   "id": "fab67878",
   "metadata": {},
   "outputs": [],
   "source": [
    "# Split data into tree parts ( Training , Valdiation , Testing ).\n",
    "from sklearn.model_selection import train_test_split\n",
    "\n",
    "x, x_test, y, y_test = train_test_split(data_input, data_output, test_size = 0.2 , random_state = 1)\n",
    "x_train, x_val, y_train, y_val = train_test_split(x, y, test_size = 0.33 , random_state = 1)"
   ]
  },
  {
   "cell_type": "code",
   "execution_count": 7,
   "id": "44bb9554",
   "metadata": {},
   "outputs": [
    {
     "name": "stdout",
     "output_type": "stream",
     "text": [
      "411\n",
      "203\n",
      "154\n"
     ]
    }
   ],
   "source": [
    "# Show all columns only of ( Training , Valdiation , Testing ).\n",
    "print(x_train.shape[0])\n",
    "print(x_val.shape[0])\n",
    "print(x_test.shape[0])"
   ]
  },
  {
   "cell_type": "markdown",
   "id": "b2513b52",
   "metadata": {},
   "source": [
    "## Feature Scaling"
   ]
  },
  {
   "cell_type": "code",
   "execution_count": 8,
   "id": "488041de",
   "metadata": {},
   "outputs": [],
   "source": [
    "# The first type of ensemble.\n",
    "from sklearn.preprocessing import StandardScaler"
   ]
  },
  {
   "cell_type": "code",
   "execution_count": 9,
   "id": "ee121b8b",
   "metadata": {},
   "outputs": [],
   "source": [
    "# Take object from StandardScaler.\n",
    "scaler = StandardScaler()"
   ]
  },
  {
   "cell_type": "code",
   "execution_count": 10,
   "id": "2857b899",
   "metadata": {},
   "outputs": [
    {
     "data": {
      "text/plain": [
       "StandardScaler()"
      ]
     },
     "execution_count": 10,
     "metadata": {},
     "output_type": "execute_result"
    }
   ],
   "source": [
    "# Training Model.\n",
    "scaler.fit(x_train)"
   ]
  },
  {
   "cell_type": "code",
   "execution_count": 11,
   "id": "02efc437",
   "metadata": {},
   "outputs": [],
   "source": [
    "# The range of input data is very defferent so that make it in nearly range. ( Using ==> transform )\n",
    "x_train_scaler = scaler.transform(x_train)\n",
    "x_val_scaler = scaler.transform(x_val)\n",
    "x_test_scaler = scaler.transform(x_test)"
   ]
  },
  {
   "cell_type": "markdown",
   "id": "f601ae0b",
   "metadata": {},
   "source": [
    "## Helper Function: Evaluate Classifier"
   ]
  },
  {
   "cell_type": "code",
   "execution_count": 12,
   "id": "fc5bb05a",
   "metadata": {},
   "outputs": [],
   "source": [
    "# Calculate accuracy of traing.\n",
    "from sklearn.metrics import accuracy_score\n",
    "\n",
    "def evalute_model(clf, x_train, x_val, y_train, y_val):\n",
    "    \n",
    "    \"\"\"\n",
    "    This Function is used to take any model and traing it then predict output and caluclate accuracy.\n",
    "    Input:\n",
    "    clf ==> Any model need to calculate accuracy.\n",
    "    x_train ==> Part of dataset that train data with it.\n",
    "    x_val ==> Part of dataset that see the validation of data with it.\n",
    "    Output:\n",
    "    y_train ==> Part of dataset that train data with it.\n",
    "    y_val ==> Part of dataset that see the validation of data with it.\n",
    "    Calculate accuracy of training and validation and return them.\n",
    "    \"\"\"\n",
    "    # Train Model.\n",
    "    clf.fit(x_train, y_train)\n",
    "    \n",
    "    # Predict values of Train and valdation.\n",
    "    y_pred_train = clf.predict(x_train)\n",
    "    y_pred_val = clf.predict(x_val)\n",
    "    \n",
    "    # Calculate accuracy of train and testing.\n",
    "    acc_train = accuracy_score(y_train, y_pred_train)\n",
    "    acc_val = accuracy_score(y_val, y_pred_val)\n",
    "    \n",
    "    print(clf.__class__.__name__)\n",
    "    print(\"Accuracy of training: \",acc_train)\n",
    "    print(\"Accuracy of valdation: \",acc_val)\n",
    "    print('-------------------------------------')\n",
    "    return acc_train, acc_val"
   ]
  },
  {
   "cell_type": "markdown",
   "id": "f5ace275",
   "metadata": {},
   "source": [
    "# Voting Classifier"
   ]
  },
  {
   "cell_type": "code",
   "execution_count": 13,
   "id": "3c909067",
   "metadata": {},
   "outputs": [],
   "source": [
    "# Calling all the model that use it with using sklearn.\n",
    "# Calling VotingClassifier from ensemble. VotingClassifier ==> Take the choice of the most of model choice it.\n",
    "\n",
    "from sklearn.tree import DecisionTreeClassifier\n",
    "from sklearn.linear_model import LogisticRegression\n",
    "from sklearn.svm import SVC\n",
    "from sklearn.ensemble import VotingClassifier"
   ]
  },
  {
   "cell_type": "code",
   "execution_count": 14,
   "id": "9c7a0ea6",
   "metadata": {},
   "outputs": [],
   "source": [
    "# Using all model and give him the hyperparameter.\n",
    "tree_clf = DecisionTreeClassifier(max_depth = 3, random_state = 1)\n",
    "logistic_clf = LogisticRegression(random_state = 1)\n",
    "svc_clf = SVC(random_state = 1)"
   ]
  },
  {
   "cell_type": "code",
   "execution_count": 15,
   "id": "d689f081",
   "metadata": {},
   "outputs": [
    {
     "name": "stdout",
     "output_type": "stream",
     "text": [
      "DecisionTreeClassifier\n",
      "Accuracy of training:  0.7347931873479319\n",
      "Accuracy of valdation:  0.7389162561576355\n",
      "-------------------------------------\n",
      "DecisionTreeClassifier\n",
      "Accuracy of training:  0.7396593673965937\n",
      "Accuracy of valdation:  0.6945812807881774\n",
      "-------------------------------------\n",
      "DecisionTreeClassifier\n",
      "Accuracy of training:  0.7980535279805353\n",
      "Accuracy of valdation:  0.7339901477832512\n",
      "-------------------------------------\n",
      "DecisionTreeClassifier\n",
      "Accuracy of training:  0.8199513381995134\n",
      "Accuracy of valdation:  0.7192118226600985\n",
      "-------------------------------------\n",
      "DecisionTreeClassifier\n",
      "Accuracy of training:  0.8418491484184915\n",
      "Accuracy of valdation:  0.7044334975369458\n",
      "-------------------------------------\n",
      "DecisionTreeClassifier\n",
      "Accuracy of training:  0.8613138686131386\n",
      "Accuracy of valdation:  0.6502463054187192\n",
      "-------------------------------------\n",
      "DecisionTreeClassifier\n",
      "Accuracy of training:  0.8905109489051095\n",
      "Accuracy of valdation:  0.6945812807881774\n",
      "-------------------------------------\n",
      "DecisionTreeClassifier\n",
      "Accuracy of training:  0.9124087591240876\n",
      "Accuracy of valdation:  0.6551724137931034\n",
      "-------------------------------------\n"
     ]
    }
   ],
   "source": [
    "# Calculate the best max_depth should use in decision tree.\n",
    "max_depth_values = [1,2,3,4,5,6,7,8]\n",
    "acc_train_values = []\n",
    "acc_val_values = []\n",
    "\n",
    "for max_depth in max_depth_values:\n",
    "    model = DecisionTreeClassifier(max_depth = max_depth, random_state = 1)\n",
    "    acc_train, acc_val = evalute_model(model, x_train_scaler, x_val_scaler, y_train, y_val)\n",
    "    acc_train_values.append(acc_train)\n",
    "    acc_val_values.append(acc_val)"
   ]
  },
  {
   "cell_type": "code",
   "execution_count": 16,
   "id": "65c0754d",
   "metadata": {},
   "outputs": [
    {
     "data": {
      "image/png": "[encoded data removed]",
      "text/plain": [
       "<Figure size 432x288 with 1 Axes>"
      ]
     },
     "metadata": {
      "needs_background": "light"
     },
     "output_type": "display_data"
    }
   ],
   "source": [
    "# Draw diagram to show the best max_dpth should use.\n",
    "import matplotlib.pyplot as plt\n",
    "%matplotlib inline\n",
    "\n",
    "plt.plot(max_depth_values, acc_train_values, label = 'Acc Train')\n",
    "plt.plot(max_depth_values, acc_val_values, label = 'Acc Val')\n",
    "plt.legend()\n",
    "plt.grid(axis = 'both')\n",
    "plt.show()"
   ]
  },
  {
   "cell_type": "code",
   "execution_count": 17,
   "id": "c1392f8f",
   "metadata": {},
   "outputs": [],
   "source": [
    "# Put all models in list of tuples.\n",
    "estimaters = [\n",
    "    ('tree',tree_clf),\n",
    "    ('logistic',logistic_clf),\n",
    "    ('svc',svc_clf)\n",
    "]\n",
    "\n",
    "voting_clf = VotingClassifier(estimaters)"
   ]
  },
  {
   "cell_type": "code",
   "execution_count": 18,
   "id": "6150d2e8",
   "metadata": {},
   "outputs": [
    {
     "name": "stdout",
     "output_type": "stream",
     "text": [
      "DecisionTreeClassifier\n",
      "Accuracy of training:  0.7980535279805353\n",
      "Accuracy of valdation:  0.7339901477832512\n",
      "-------------------------------------\n",
      "LogisticRegression\n",
      "Accuracy of training:  0.7761557177615572\n",
      "Accuracy of valdation:  0.7733990147783252\n",
      "-------------------------------------\n",
      "SVC\n",
      "Accuracy of training:  0.8272506082725061\n",
      "Accuracy of valdation:  0.7487684729064039\n",
      "-------------------------------------\n",
      "VotingClassifier\n",
      "Accuracy of training:  0.8126520681265207\n",
      "Accuracy of valdation:  0.7684729064039408\n",
      "-------------------------------------\n"
     ]
    }
   ],
   "source": [
    "# Add voting_classifier to estimaters.\n",
    "all_estimaters = estimaters + [('voting_clf',voting_clf)]\n",
    "\n",
    "# Make three list to have ( name of model , accuracy_train , accuracy_val )\n",
    "results = {\n",
    "    \n",
    "    'model': [],\n",
    "    'acc_train':[],\n",
    "    'acc_val':[]      \n",
    "}\n",
    "\n",
    "for (name,clf) in all_estimaters:\n",
    "    acc_train , acc_val = evalute_model(clf, x_train_scaler,\n",
    "                                        x_val_scaler, y_train, y_val)\n",
    "    results['model'].append(name)\n",
    "    results['acc_train'].append(acc_train)\n",
    "    results['acc_val'].append(acc_val)"
   ]
  },
  {
   "cell_type": "code",
   "execution_count": 19,
   "id": "e86c24bb",
   "metadata": {},
   "outputs": [
    {
     "data": {
      "text/plain": [
       "{'model': ['tree', 'logistic', 'svc', 'voting_clf'],\n",
       " 'acc_train': [0.7980535279805353,\n",
       "  0.7761557177615572,\n",
       "  0.8272506082725061,\n",
       "  0.8126520681265207],\n",
       " 'acc_val': [0.7339901477832512,\n",
       "  0.7733990147783252,\n",
       "  0.7487684729064039,\n",
       "  0.7684729064039408]}"
      ]
     },
     "execution_count": 19,
     "metadata": {},
     "output_type": "execute_result"
    }
   ],
   "source": [
    "# Show all the result of model and voting_classifier either.\n",
    "results"
   ]
  },
  {
   "cell_type": "code",
   "execution_count": 20,
   "id": "968d83cb",
   "metadata": {},
   "outputs": [
    {
     "data": {
      "text/html": [
       "<div>\n",
       "<style scoped>\n",
       "    .dataframe tbody tr th:only-of-type {\n",
       "        vertical-align: middle;\n",
       "    }\n",
       "\n",
       "    .dataframe tbody tr th {\n",
       "        vertical-align: top;\n",
       "    }\n",
       "\n",
       "    .dataframe thead th {\n",
       "        text-align: right;\n",
       "    }\n",
       "</style>\n",
       "<table border=\"1\" class=\"dataframe\">\n",
       "  <thead>\n",
       "    <tr style=\"text-align: right;\">\n",
       "      <th></th>\n",
       "      <th>model</th>\n",
       "      <th>acc_train</th>\n",
       "      <th>acc_val</th>\n",
       "    </tr>\n",
       "  </thead>\n",
       "  <tbody>\n",
       "    <tr>\n",
       "      <th>0</th>\n",
       "      <td>tree</td>\n",
       "      <td>0.798054</td>\n",
       "      <td>0.733990</td>\n",
       "    </tr>\n",
       "    <tr>\n",
       "      <th>1</th>\n",
       "      <td>logistic</td>\n",
       "      <td>0.776156</td>\n",
       "      <td>0.773399</td>\n",
       "    </tr>\n",
       "    <tr>\n",
       "      <th>2</th>\n",
       "      <td>svc</td>\n",
       "      <td>0.827251</td>\n",
       "      <td>0.748768</td>\n",
       "    </tr>\n",
       "    <tr>\n",
       "      <th>3</th>\n",
       "      <td>voting_clf</td>\n",
       "      <td>0.812652</td>\n",
       "      <td>0.768473</td>\n",
       "    </tr>\n",
       "  </tbody>\n",
       "</table>\n",
       "</div>"
      ],
      "text/plain": [
       "        model  acc_train   acc_val\n",
       "0        tree   0.798054  0.733990\n",
       "1    logistic   0.776156  0.773399\n",
       "2         svc   0.827251  0.748768\n",
       "3  voting_clf   0.812652  0.768473"
      ]
     },
     "execution_count": 20,
     "metadata": {},
     "output_type": "execute_result"
    }
   ],
   "source": [
    "# To be data very readble to read it should use DataFrame.\n",
    "result_df = pd.DataFrame(results)\n",
    "\n",
    "result_df"
   ]
  },
  {
   "cell_type": "markdown",
   "id": "23882287",
   "metadata": {},
   "source": [
    "# Bagging"
   ]
  },
  {
   "cell_type": "code",
   "execution_count": 21,
   "id": "9d088b0c",
   "metadata": {},
   "outputs": [],
   "source": [
    "# Bagging type of ensemble model. Ensemble Model dependant of ==> ( use alot of model in the same dataset )\n",
    "from sklearn.ensemble import BaggingClassifier"
   ]
  },
  {
   "cell_type": "code",
   "execution_count": 22,
   "id": "b2569a91",
   "metadata": {},
   "outputs": [
    {
     "name": "stdout",
     "output_type": "stream",
     "text": [
      "BaggingClassifier\n",
      "Accuracy of training:  0.7688564476885644\n",
      "Accuracy of valdation:  0.7783251231527094\n",
      "-------------------------------------\n",
      "BaggingClassifier\n",
      "Accuracy of training:  0.7688564476885644\n",
      "Accuracy of valdation:  0.7881773399014779\n",
      "-------------------------------------\n",
      "BaggingClassifier\n",
      "Accuracy of training:  0.7712895377128953\n",
      "Accuracy of valdation:  0.7832512315270936\n",
      "-------------------------------------\n",
      "BaggingClassifier\n",
      "Accuracy of training:  0.7664233576642335\n",
      "Accuracy of valdation:  0.7783251231527094\n",
      "-------------------------------------\n",
      "BaggingClassifier\n",
      "Accuracy of training:  0.7737226277372263\n",
      "Accuracy of valdation:  0.7832512315270936\n",
      "-------------------------------------\n",
      "BaggingClassifier\n",
      "Accuracy of training:  0.7761557177615572\n",
      "Accuracy of valdation:  0.7832512315270936\n",
      "-------------------------------------\n",
      "BaggingClassifier\n",
      "Accuracy of training:  0.7712895377128953\n",
      "Accuracy of valdation:  0.7783251231527094\n",
      "-------------------------------------\n",
      "BaggingClassifier\n",
      "Accuracy of training:  0.7688564476885644\n",
      "Accuracy of valdation:  0.7783251231527094\n",
      "-------------------------------------\n"
     ]
    }
   ],
   "source": [
    "best_values = [20,30,60,80,100,120,140,160]\n",
    "acc_train_values = []\n",
    "acc_val_values = []\n",
    "\n",
    "for best_value in best_values:\n",
    "    model = BaggingClassifier(\n",
    "    LogisticRegression(random_state = 1), n_estimators = best_value,\n",
    "    max_samples = 0.75, bootstrap = True, random_state = 1, n_jobs = -1,\n",
    ")\n",
    "    acc_train_bag, acc_val_bag = evalute_model(model, x_train_scaler, x_val_scaler, y_train, y_val)\n",
    "    acc_train_values.append(acc_train_bag)\n",
    "    acc_val_values.append(acc_val_bag)"
   ]
  },
  {
   "cell_type": "code",
   "execution_count": 23,
   "id": "173e3421",
   "metadata": {},
   "outputs": [
    {
     "data": {
      "image/png": "[encoded data removed]",
      "text/plain": [
       "<Figure size 432x288 with 1 Axes>"
      ]
     },
     "metadata": {
      "needs_background": "light"
     },
     "output_type": "display_data"
    }
   ],
   "source": [
    "plt.plot(best_values, acc_train_values, label = \"Acc Train\")\n",
    "plt.plot(best_values, acc_val_values, label = 'Acc Val')\n",
    "plt.legend()\n",
    "plt.grid(axis = 'both')\n",
    "plt.show()"
   ]
  },
  {
   "cell_type": "code",
   "execution_count": 24,
   "id": "5fc8bb3d",
   "metadata": {
    "scrolled": true
   },
   "outputs": [
    {
     "name": "stdout",
     "output_type": "stream",
     "text": [
      "BaggingClassifier\n",
      "Accuracy of training:  0.7761557177615572\n",
      "Accuracy of valdation:  0.7832512315270936\n",
      "-------------------------------------\n"
     ]
    }
   ],
   "source": [
    "# Bagging / Pasting { be pasting if need to use Pasting ==> ( bootstrap = False ) }\n",
    "\n",
    "# Call bagginf and use hyperparameter specific.\n",
    "bag_clf = BaggingClassifier(\n",
    "    LogisticRegression(random_state = 1), n_estimators = 120,\n",
    "    max_samples = 0.75, bootstrap = True, random_state = 1, n_jobs = -1,\n",
    ")\n",
    "\n",
    "acc_train_bag, acc_val_bag = evalute_model(bag_clf, x_train_scaler, x_val_scaler, y_train, y_val)"
   ]
  },
  {
   "cell_type": "markdown",
   "id": "d1d511d9",
   "metadata": {},
   "source": [
    "# Random Forest"
   ]
  },
  {
   "cell_type": "code",
   "execution_count": 25,
   "id": "0dba90cb",
   "metadata": {},
   "outputs": [
    {
     "name": "stdout",
     "output_type": "stream",
     "text": [
      "RandomForestClassifier\n",
      "Accuracy of training:  0.9099756690997567\n",
      "Accuracy of valdation:  0.7536945812807881\n",
      "-------------------------------------\n"
     ]
    }
   ],
   "source": [
    "# Using another type of ensemble called RandomForestClassifier.\n",
    "from sklearn.ensemble import RandomForestClassifier\n",
    "\n",
    "rf_clf = RandomForestClassifier(n_estimators = 250, max_depth = 6, random_state = 1)\n",
    "\n",
    "acc_train_rf, acc_val_rf = evalute_model(rf_clf, x_train_scaler,\n",
    "                                   x_val_scaler, y_train, y_val)"
   ]
  },
  {
   "cell_type": "code",
   "execution_count": 26,
   "id": "db02a5cc",
   "metadata": {},
   "outputs": [
    {
     "name": "stdout",
     "output_type": "stream",
     "text": [
      "RandomForestClassifier\n",
      "Accuracy of training:  0.7055961070559611\n",
      "Accuracy of valdation:  0.6650246305418719\n",
      "-------------------------------------\n",
      "RandomForestClassifier\n",
      "Accuracy of training:  0.7737226277372263\n",
      "Accuracy of valdation:  0.729064039408867\n",
      "-------------------------------------\n",
      "RandomForestClassifier\n",
      "Accuracy of training:  0.8223844282238443\n",
      "Accuracy of valdation:  0.729064039408867\n",
      "-------------------------------------\n",
      "RandomForestClassifier\n",
      "Accuracy of training:  0.851581508515815\n",
      "Accuracy of valdation:  0.7487684729064039\n",
      "-------------------------------------\n",
      "RandomForestClassifier\n",
      "Accuracy of training:  0.8734793187347932\n",
      "Accuracy of valdation:  0.7438423645320197\n",
      "-------------------------------------\n",
      "RandomForestClassifier\n",
      "Accuracy of training:  0.9099756690997567\n",
      "Accuracy of valdation:  0.7536945812807881\n",
      "-------------------------------------\n",
      "RandomForestClassifier\n",
      "Accuracy of training:  0.9440389294403893\n",
      "Accuracy of valdation:  0.7438423645320197\n",
      "-------------------------------------\n",
      "RandomForestClassifier\n",
      "Accuracy of training:  0.9683698296836983\n",
      "Accuracy of valdation:  0.7389162561576355\n",
      "-------------------------------------\n"
     ]
    }
   ],
   "source": [
    "max_depth_values = [1,2,3,4,5,6,7,8]\n",
    "acc_train_values = []\n",
    "acc_val_values = []\n",
    "\n",
    "for max_depth in max_depth_values:\n",
    "    model = RandomForestClassifier(n_estimators = 250, max_depth = max_depth, random_state = 1)\n",
    "    acc_train, acc_val = evalute_model(model, x_train_scaler,\n",
    "                                   x_val_scaler, y_train, y_val)\n",
    "    acc_train_values.append(acc_train)\n",
    "    acc_val_values.append(acc_val)"
   ]
  },
  {
   "cell_type": "code",
   "execution_count": 27,
   "id": "0f437581",
   "metadata": {},
   "outputs": [
    {
     "data": {
      "image/png": "[encoded data removed]",
      "text/plain": [
       "<Figure size 432x288 with 1 Axes>"
      ]
     },
     "metadata": {
      "needs_background": "light"
     },
     "output_type": "display_data"
    }
   ],
   "source": [
    "plt.plot(max_depth_values, acc_train_values, label = \"Acc Train\")\n",
    "plt.plot(max_depth_values, acc_val_values, label = 'Acc Val')\n",
    "plt.legend()\n",
    "plt.grid(axis = 'both')\n",
    "plt.show()"
   ]
  },
  {
   "cell_type": "code",
   "execution_count": 28,
   "id": "3693cc8e",
   "metadata": {},
   "outputs": [
    {
     "data": {
      "image/png": "[encoded data removed]",
      "text/plain": [
       "<Figure size 432x288 with 1 Axes>"
      ]
     },
     "metadata": {
      "needs_background": "light"
     },
     "output_type": "display_data"
    }
   ],
   "source": [
    "estimate_values = [0,50,100,150,200,250,300,350]\n",
    "\n",
    "plt.plot(estimate_values, acc_train_values, label = \"Acc Train\")\n",
    "plt.plot(estimate_values, acc_val_values, label = 'Acc Val')\n",
    "plt.legend()\n",
    "plt.grid(axis = 'both')\n",
    "plt.show()"
   ]
  },
  {
   "cell_type": "markdown",
   "id": "a9cb62f1",
   "metadata": {},
   "source": [
    "# Extemely Random Treees(Extra-Trees)"
   ]
  },
  {
   "cell_type": "code",
   "execution_count": 29,
   "id": "e15d830f",
   "metadata": {},
   "outputs": [
    {
     "name": "stdout",
     "output_type": "stream",
     "text": [
      "ExtraTreesClassifier\n",
      "Accuracy of training:  0.8613138686131386\n",
      "Accuracy of valdation:  0.7586206896551724\n",
      "-------------------------------------\n"
     ]
    }
   ],
   "source": [
    "from sklearn.ensemble import ExtraTreesClassifier\n",
    "\n",
    "ex_clf = ExtraTreesClassifier(n_estimators = 250, max_depth = 7, random_state = 1)\n",
    "\n",
    "acc_train_ex, acc_val_ex = evalute_model(ex_clf, x_train_scaler,\n",
    "                                   x_val_scaler, y_train, y_val)"
   ]
  },
  {
   "cell_type": "code",
   "execution_count": 30,
   "id": "ea99b7eb",
   "metadata": {},
   "outputs": [
    {
     "name": "stdout",
     "output_type": "stream",
     "text": [
      "ExtraTreesClassifier\n",
      "Accuracy of training:  0.656934306569343\n",
      "Accuracy of valdation:  0.645320197044335\n",
      "-------------------------------------\n",
      "ExtraTreesClassifier\n",
      "Accuracy of training:  0.681265206812652\n",
      "Accuracy of valdation:  0.645320197044335\n",
      "-------------------------------------\n",
      "ExtraTreesClassifier\n",
      "Accuracy of training:  0.7128953771289538\n",
      "Accuracy of valdation:  0.6699507389162561\n",
      "-------------------------------------\n",
      "ExtraTreesClassifier\n",
      "Accuracy of training:  0.7518248175182481\n",
      "Accuracy of valdation:  0.7142857142857143\n",
      "-------------------------------------\n",
      "ExtraTreesClassifier\n",
      "Accuracy of training:  0.7931873479318735\n",
      "Accuracy of valdation:  0.7389162561576355\n",
      "-------------------------------------\n",
      "ExtraTreesClassifier\n",
      "Accuracy of training:  0.8272506082725061\n",
      "Accuracy of valdation:  0.7536945812807881\n",
      "-------------------------------------\n",
      "ExtraTreesClassifier\n",
      "Accuracy of training:  0.8613138686131386\n",
      "Accuracy of valdation:  0.7586206896551724\n",
      "-------------------------------------\n",
      "ExtraTreesClassifier\n",
      "Accuracy of training:  0.8880778588807786\n",
      "Accuracy of valdation:  0.7487684729064039\n",
      "-------------------------------------\n"
     ]
    }
   ],
   "source": [
    "max_depth_values = [1,2,3,4,5,6,7,8]\n",
    "acc_train_values = []\n",
    "acc_val_values = []\n",
    "\n",
    "for max_depth in max_depth_values:\n",
    "    model = ExtraTreesClassifier(n_estimators = 250, max_depth = max_depth, random_state = 1)\n",
    "    acc_train_ex, acc_val_ex = evalute_model(model, x_train_scaler,\n",
    "                                   x_val_scaler, y_train, y_val)\n",
    "    acc_train_values.append(acc_train_ex)\n",
    "    acc_val_values.append(acc_val_ex)"
   ]
  },
  {
   "cell_type": "code",
   "execution_count": 31,
   "id": "f106d0fb",
   "metadata": {},
   "outputs": [
    {
     "data": {
      "image/png": "[encoded data removed]",
      "text/plain": [
       "<Figure size 432x288 with 1 Axes>"
      ]
     },
     "metadata": {
      "needs_background": "light"
     },
     "output_type": "display_data"
    }
   ],
   "source": [
    "plt.plot(max_depth_values, acc_train_values, label = \"Acc Train\")\n",
    "plt.plot(max_depth_values, acc_val_values, label = 'Acc Val')\n",
    "plt.legend()\n",
    "plt.grid(axis = 'both')\n",
    "plt.show()"
   ]
  },
  {
   "cell_type": "code",
   "execution_count": 32,
   "id": "3d6df918",
   "metadata": {},
   "outputs": [
    {
     "data": {
      "image/png": "[encoded data removed]",
      "text/plain": [
       "<Figure size 432x288 with 1 Axes>"
      ]
     },
     "metadata": {
      "needs_background": "light"
     },
     "output_type": "display_data"
    }
   ],
   "source": [
    "estimate_values = [0,50,100,150,200,250,300,350]\n",
    "\n",
    "plt.plot(estimate_values, acc_train_values, label = \"Acc Train\")\n",
    "plt.plot(estimate_values, acc_val_values, label = 'Acc Val')\n",
    "plt.legend()\n",
    "plt.grid(axis = 'both')\n",
    "plt.show()"
   ]
  },
  {
   "cell_type": "markdown",
   "id": "6e895364",
   "metadata": {},
   "source": [
    "# Adaptive Boosting"
   ]
  },
  {
   "cell_type": "code",
   "execution_count": 33,
   "id": "5ecccb60",
   "metadata": {},
   "outputs": [
    {
     "name": "stdout",
     "output_type": "stream",
     "text": [
      "AdaBoostClassifier\n",
      "Accuracy of training:  0.8734793187347932\n",
      "Accuracy of valdation:  0.7586206896551724\n",
      "-------------------------------------\n"
     ]
    }
   ],
   "source": [
    "# Using new type of ensemble called AdaBoostClassifier\n",
    "from sklearn.ensemble import AdaBoostClassifier\n",
    "\n",
    "ada_clf = AdaBoostClassifier(\n",
    "    DecisionTreeClassifier(max_depth = 3, min_samples_leaf = 60, random_state = 1),\n",
    "    n_estimators = 500,\n",
    "    learning_rate = 0.05,\n",
    "    random_state = 1\n",
    "\n",
    ")\n",
    "\n",
    "acc_train_ada, acc_val_ada = evalute_model(ada_clf, x_train_scaler,\n",
    "                                           x_val_scaler, y_train, y_val)"
   ]
  },
  {
   "cell_type": "markdown",
   "id": "6491b3e5",
   "metadata": {},
   "source": [
    "# Gradient Boosting"
   ]
  },
  {
   "cell_type": "code",
   "execution_count": 34,
   "id": "f7327084",
   "metadata": {},
   "outputs": [
    {
     "name": "stdout",
     "output_type": "stream",
     "text": [
      "GradientBoostingClassifier\n",
      "Accuracy of training:  0.8369829683698297\n",
      "Accuracy of valdation:  0.7536945812807881\n",
      "-------------------------------------\n"
     ]
    }
   ],
   "source": [
    "from sklearn.ensemble import GradientBoostingClassifier\n",
    "\n",
    "gbct_clf = GradientBoostingClassifier(max_depth = 1, n_estimators = 300,\n",
    "                                      learning_rate = 0.1, random_state = 1)\n",
    "\n",
    "acc_train_gbct, acc_val_gbct = evalute_model(gbct_clf, x_train_scaler,\n",
    "                                           x_val_scaler, y_train, y_val)"
   ]
  },
  {
   "cell_type": "markdown",
   "id": "3f9aeb7f",
   "metadata": {},
   "source": [
    "# Comparing Results"
   ]
  },
  {
   "cell_type": "code",
   "execution_count": 35,
   "id": "127f25b1",
   "metadata": {},
   "outputs": [],
   "source": [
    "# Make dictonary to put model, acc_train and acc_val.\n",
    "all_results = {\n",
    "    'model': [],\n",
    "    'acc_train': [],\n",
    "    'acc_val': []\n",
    "}\n",
    "\n",
    "# \n",
    "all_results['model'] = results['model'] + ['bagging','rf','ex','ada','gbct']\n",
    "all_results['acc_train'] = results['acc_train'] + [acc_train_bag,acc_train_rf,acc_train_ex,\n",
    "                                                   acc_train_ada,acc_train_gbct]\n",
    "all_results['acc_val'] = results['acc_val'] + [acc_val_bag,acc_val_rf,acc_val_ex,\n",
    "                                               acc_val_ada,acc_val_gbct]"
   ]
  },
  {
   "cell_type": "code",
   "execution_count": 36,
   "id": "a85c35aa",
   "metadata": {},
   "outputs": [],
   "source": [
    "# Using pandas to put data in Frame.\n",
    "all_results_df = pd.DataFrame(all_results)\n",
    "\n",
    "all_results_df = all_results_df.sort_values(by = 'acc_val',\n",
    "                                            ascending = False, ignore_index = True)# ignore_index ==> Not interest of arrange."
   ]
  },
  {
   "cell_type": "code",
   "execution_count": 37,
   "id": "4393c955",
   "metadata": {},
   "outputs": [
    {
     "data": {
      "text/html": [
       "<div>\n",
       "<style scoped>\n",
       "    .dataframe tbody tr th:only-of-type {\n",
       "        vertical-align: middle;\n",
       "    }\n",
       "\n",
       "    .dataframe tbody tr th {\n",
       "        vertical-align: top;\n",
       "    }\n",
       "\n",
       "    .dataframe thead th {\n",
       "        text-align: right;\n",
       "    }\n",
       "</style>\n",
       "<table border=\"1\" class=\"dataframe\">\n",
       "  <thead>\n",
       "    <tr style=\"text-align: right;\">\n",
       "      <th></th>\n",
       "      <th>model</th>\n",
       "      <th>acc_train</th>\n",
       "      <th>acc_val</th>\n",
       "    </tr>\n",
       "  </thead>\n",
       "  <tbody>\n",
       "    <tr>\n",
       "      <th>0</th>\n",
       "      <td>bagging</td>\n",
       "      <td>0.776156</td>\n",
       "      <td>0.783251</td>\n",
       "    </tr>\n",
       "    <tr>\n",
       "      <th>1</th>\n",
       "      <td>logistic</td>\n",
       "      <td>0.776156</td>\n",
       "      <td>0.773399</td>\n",
       "    </tr>\n",
       "    <tr>\n",
       "      <th>2</th>\n",
       "      <td>voting_clf</td>\n",
       "      <td>0.812652</td>\n",
       "      <td>0.768473</td>\n",
       "    </tr>\n",
       "    <tr>\n",
       "      <th>3</th>\n",
       "      <td>ada</td>\n",
       "      <td>0.873479</td>\n",
       "      <td>0.758621</td>\n",
       "    </tr>\n",
       "    <tr>\n",
       "      <th>4</th>\n",
       "      <td>rf</td>\n",
       "      <td>0.909976</td>\n",
       "      <td>0.753695</td>\n",
       "    </tr>\n",
       "    <tr>\n",
       "      <th>5</th>\n",
       "      <td>gbct</td>\n",
       "      <td>0.836983</td>\n",
       "      <td>0.753695</td>\n",
       "    </tr>\n",
       "    <tr>\n",
       "      <th>6</th>\n",
       "      <td>svc</td>\n",
       "      <td>0.827251</td>\n",
       "      <td>0.748768</td>\n",
       "    </tr>\n",
       "    <tr>\n",
       "      <th>7</th>\n",
       "      <td>ex</td>\n",
       "      <td>0.888078</td>\n",
       "      <td>0.748768</td>\n",
       "    </tr>\n",
       "    <tr>\n",
       "      <th>8</th>\n",
       "      <td>tree</td>\n",
       "      <td>0.798054</td>\n",
       "      <td>0.733990</td>\n",
       "    </tr>\n",
       "  </tbody>\n",
       "</table>\n",
       "</div>"
      ],
      "text/plain": [
       "        model  acc_train   acc_val\n",
       "0     bagging   0.776156  0.783251\n",
       "1    logistic   0.776156  0.773399\n",
       "2  voting_clf   0.812652  0.768473\n",
       "3         ada   0.873479  0.758621\n",
       "4          rf   0.909976  0.753695\n",
       "5        gbct   0.836983  0.753695\n",
       "6         svc   0.827251  0.748768\n",
       "7          ex   0.888078  0.748768\n",
       "8        tree   0.798054  0.733990"
      ]
     },
     "execution_count": 37,
     "metadata": {},
     "output_type": "execute_result"
    }
   ],
   "source": [
    "all_results_df"
   ]
  },
  {
   "cell_type": "code",
   "execution_count": 38,
   "id": "a69d12d5",
   "metadata": {},
   "outputs": [
    {
     "data": {
      "image/png": "[encoded data removed]",
      "text/plain": [
       "<Figure size 1080x360 with 1 Axes>"
      ]
     },
     "metadata": {
      "needs_background": "light"
     },
     "output_type": "display_data"
    }
   ],
   "source": [
    "# Graph to compare between model.\n",
    "import numpy as np\n",
    "\n",
    "all_results_df.plot.bar(x = 'model', y = ['acc_train', 'acc_val'], figsize = (15, 5))\n",
    "plt.yticks(np.arange(0.0,1.1,0.1))\n",
    "plt.grid(axis = 'y')\n",
    "plt.legend()\n",
    "plt.show()"
   ]
  },
  {
   "cell_type": "markdown",
   "id": "6e247cc8",
   "metadata": {},
   "source": [
    "# Testing"
   ]
  },
  {
   "cell_type": "code",
   "execution_count": 39,
   "id": "7084fa38",
   "metadata": {},
   "outputs": [],
   "source": [
    "# Take the best Model.\n",
    "best_model = BaggingClassifier(\n",
    "    LogisticRegression(random_state = 1), n_estimators = 100,\n",
    "    max_samples = 0.75, bootstrap = True, random_state = 1, n_jobs = -1,\n",
    ")"
   ]
  },
  {
   "cell_type": "code",
   "execution_count": 40,
   "id": "a1ad8b1d",
   "metadata": {},
   "outputs": [
    {
     "data": {
      "text/plain": [
       "BaggingClassifier(base_estimator=LogisticRegression(random_state=1),\n",
       "                  max_samples=0.75, n_estimators=100, n_jobs=-1,\n",
       "                  random_state=1)"
      ]
     },
     "execution_count": 40,
     "metadata": {},
     "output_type": "execute_result"
    }
   ],
   "source": [
    "# Train Model.\n",
    "best_model.fit(x_train_scaler,y_train)"
   ]
  },
  {
   "cell_type": "code",
   "execution_count": 41,
   "id": "ef9e411a",
   "metadata": {},
   "outputs": [],
   "source": [
    "# Predict the values of train and validation.\n",
    "y_pred_test = best_model.predict(x_test_scaler)"
   ]
  },
  {
   "cell_type": "code",
   "execution_count": 42,
   "id": "edb8877d",
   "metadata": {},
   "outputs": [
    {
     "data": {
      "text/plain": [
       "0.7922077922077922"
      ]
     },
     "execution_count": 42,
     "metadata": {},
     "output_type": "execute_result"
    }
   ],
   "source": [
    "# Calculate accuracy of train and testing.\n",
    "accuracy_score(y_test,y_pred_test)"
   ]
  },
  {
   "cell_type": "code",
   "execution_count": 43,
   "id": "904a8cff",
   "metadata": {},
   "outputs": [],
   "source": [
    "# Save the complete model.\n",
    "import pickle\n",
    "\n",
    "with open('saved-model.pickle','wb')as f:\n",
    "    pickle.dump(best_model,f)"
   ]
  },
  {
   "cell_type": "code",
   "execution_count": null,
   "id": "18b99301",
   "metadata": {},
   "outputs": [],
   "source": []
  }
 ],
 "metadata": {
  "kernelspec": {
   "display_name": "Python 3 (ipykernel)",
   "language": "python",
   "name": "python3"
  },
  "language_info": {
   "codemirror_mode": {
    "name": "ipython",
    "version": 3
   },
   "file_extension": ".py",
   "mimetype": "text/x-python",
   "name": "python",
   "nbconvert_exporter": "python",
   "pygments_lexer": "ipython3",
   "version": "3.9.12"
  }
 },
 "nbformat": 4,
 "nbformat_minor": 5
}
